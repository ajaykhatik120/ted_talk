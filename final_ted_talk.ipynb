{
 "cells": [
  {
   "cell_type": "code",
   "execution_count": 1,
   "id": "d6473fca-9aa0-4611-880f-b19d9f787072",
   "metadata": {},
   "outputs": [],
   "source": [
    "import pandas as pd\n",
    "import numpy as np"
   ]
  },
  {
   "cell_type": "code",
   "execution_count": 2,
   "id": "83329cd6-1230-469f-badc-3ebb7f84de38",
   "metadata": {},
   "outputs": [],
   "source": [
    "df=pd.read_csv('ted_data_clean.csv')"
   ]
  },
  {
   "cell_type": "code",
   "execution_count": 5,
   "id": "04ce8e83-5a47-4332-924a-a0431be0b828",
   "metadata": {},
   "outputs": [
    {
     "data": {
      "text/html": [
       "<div>\n",
       "<style scoped>\n",
       "    .dataframe tbody tr th:only-of-type {\n",
       "        vertical-align: middle;\n",
       "    }\n",
       "\n",
       "    .dataframe tbody tr th {\n",
       "        vertical-align: top;\n",
       "    }\n",
       "\n",
       "    .dataframe thead th {\n",
       "        text-align: right;\n",
       "    }\n",
       "</style>\n",
       "<table border=\"1\" class=\"dataframe\">\n",
       "  <thead>\n",
       "    <tr style=\"text-align: right;\">\n",
       "      <th></th>\n",
       "      <th>Unnamed: 0</th>\n",
       "      <th>title</th>\n",
       "      <th>tags</th>\n",
       "    </tr>\n",
       "  </thead>\n",
       "  <tbody>\n",
       "    <tr>\n",
       "      <th>0</th>\n",
       "      <td>0</td>\n",
       "      <td>do schools kill creativity?</td>\n",
       "      <td>['Do', 'schools', 'kill', 'creativity?', 'chil...</td>\n",
       "    </tr>\n",
       "    <tr>\n",
       "      <th>1</th>\n",
       "      <td>1</td>\n",
       "      <td>averting the climate crisis</td>\n",
       "      <td>['Averting', 'the', 'climate', 'crisis', 'alte...</td>\n",
       "    </tr>\n",
       "    <tr>\n",
       "      <th>2</th>\n",
       "      <td>2</td>\n",
       "      <td>simplicity sells</td>\n",
       "      <td>['Simplicity', 'sells', 'computers', 'entertai...</td>\n",
       "    </tr>\n",
       "    <tr>\n",
       "      <th>3</th>\n",
       "      <td>3</td>\n",
       "      <td>greening the ghetto</td>\n",
       "      <td>['Greening', 'the', 'ghetto', 'MacArthur grant...</td>\n",
       "    </tr>\n",
       "    <tr>\n",
       "      <th>4</th>\n",
       "      <td>4</td>\n",
       "      <td>the best stats you've ever seen</td>\n",
       "      <td>['The', 'best', 'stats', \"you've\", 'ever', 'se...</td>\n",
       "    </tr>\n",
       "  </tbody>\n",
       "</table>\n",
       "</div>"
      ],
      "text/plain": [
       "   Unnamed: 0                            title  \\\n",
       "0           0      do schools kill creativity?   \n",
       "1           1      averting the climate crisis   \n",
       "2           2                 simplicity sells   \n",
       "3           3              greening the ghetto   \n",
       "4           4  the best stats you've ever seen   \n",
       "\n",
       "                                                tags  \n",
       "0  ['Do', 'schools', 'kill', 'creativity?', 'chil...  \n",
       "1  ['Averting', 'the', 'climate', 'crisis', 'alte...  \n",
       "2  ['Simplicity', 'sells', 'computers', 'entertai...  \n",
       "3  ['Greening', 'the', 'ghetto', 'MacArthur grant...  \n",
       "4  ['The', 'best', 'stats', \"you've\", 'ever', 'se...  "
      ]
     },
     "execution_count": 5,
     "metadata": {},
     "output_type": "execute_result"
    }
   ],
   "source": [
    "df.head()"
   ]
  },
  {
   "cell_type": "code",
   "execution_count": 6,
   "id": "f68f17dd-6d4e-4d08-9eba-6a619a9f2371",
   "metadata": {},
   "outputs": [],
   "source": [
    "df=df[['title','tags']]"
   ]
  },
  {
   "cell_type": "code",
   "execution_count": 7,
   "id": "d0b51bb3-1b7e-489f-a472-8e07187ebf9e",
   "metadata": {},
   "outputs": [
    {
     "data": {
      "text/html": [
       "<div>\n",
       "<style scoped>\n",
       "    .dataframe tbody tr th:only-of-type {\n",
       "        vertical-align: middle;\n",
       "    }\n",
       "\n",
       "    .dataframe tbody tr th {\n",
       "        vertical-align: top;\n",
       "    }\n",
       "\n",
       "    .dataframe thead th {\n",
       "        text-align: right;\n",
       "    }\n",
       "</style>\n",
       "<table border=\"1\" class=\"dataframe\">\n",
       "  <thead>\n",
       "    <tr style=\"text-align: right;\">\n",
       "      <th></th>\n",
       "      <th>title</th>\n",
       "      <th>tags</th>\n",
       "    </tr>\n",
       "  </thead>\n",
       "  <tbody>\n",
       "    <tr>\n",
       "      <th>0</th>\n",
       "      <td>do schools kill creativity?</td>\n",
       "      <td>['Do', 'schools', 'kill', 'creativity?', 'chil...</td>\n",
       "    </tr>\n",
       "    <tr>\n",
       "      <th>1</th>\n",
       "      <td>averting the climate crisis</td>\n",
       "      <td>['Averting', 'the', 'climate', 'crisis', 'alte...</td>\n",
       "    </tr>\n",
       "    <tr>\n",
       "      <th>2</th>\n",
       "      <td>simplicity sells</td>\n",
       "      <td>['Simplicity', 'sells', 'computers', 'entertai...</td>\n",
       "    </tr>\n",
       "    <tr>\n",
       "      <th>3</th>\n",
       "      <td>greening the ghetto</td>\n",
       "      <td>['Greening', 'the', 'ghetto', 'MacArthur grant...</td>\n",
       "    </tr>\n",
       "    <tr>\n",
       "      <th>4</th>\n",
       "      <td>the best stats you've ever seen</td>\n",
       "      <td>['The', 'best', 'stats', \"you've\", 'ever', 'se...</td>\n",
       "    </tr>\n",
       "  </tbody>\n",
       "</table>\n",
       "</div>"
      ],
      "text/plain": [
       "                             title  \\\n",
       "0      do schools kill creativity?   \n",
       "1      averting the climate crisis   \n",
       "2                 simplicity sells   \n",
       "3              greening the ghetto   \n",
       "4  the best stats you've ever seen   \n",
       "\n",
       "                                                tags  \n",
       "0  ['Do', 'schools', 'kill', 'creativity?', 'chil...  \n",
       "1  ['Averting', 'the', 'climate', 'crisis', 'alte...  \n",
       "2  ['Simplicity', 'sells', 'computers', 'entertai...  \n",
       "3  ['Greening', 'the', 'ghetto', 'MacArthur grant...  \n",
       "4  ['The', 'best', 'stats', \"you've\", 'ever', 'se...  "
      ]
     },
     "execution_count": 7,
     "metadata": {},
     "output_type": "execute_result"
    }
   ],
   "source": [
    "df.head()"
   ]
  },
  {
   "cell_type": "code",
   "execution_count": null,
   "id": "9a253798-3e45-41c8-8bf8-87be71d7be4c",
   "metadata": {},
   "outputs": [],
   "source": [
    "#now converting each tag into an vector"
   ]
  },
  {
   "cell_type": "code",
   "execution_count": 14,
   "id": "aa8af986-a271-4787-85f2-dd01c84e09c0",
   "metadata": {},
   "outputs": [],
   "source": [
    "from sklearn.feature_extraction.text import CountVectorizer"
   ]
  },
  {
   "cell_type": "code",
   "execution_count": 15,
   "id": "96e06783-b56a-4736-a37c-a2e2fa5a3d44",
   "metadata": {},
   "outputs": [],
   "source": [
    "cv=CountVectorizer(max_features=3000,stop_words='english')"
   ]
  },
  {
   "cell_type": "code",
   "execution_count": 21,
   "id": "14431466-98e2-4e55-9c4c-514b3b412822",
   "metadata": {},
   "outputs": [],
   "source": [
    "vectors=cv.fit_transform(df['tags']).toarray()"
   ]
  },
  {
   "cell_type": "code",
   "execution_count": 22,
   "id": "3baa83b2-3d1c-4d9f-b6f5-0d95960f94ee",
   "metadata": {},
   "outputs": [
    {
     "data": {
      "text/plain": [
       "(2550, 3000)"
      ]
     },
     "execution_count": 22,
     "metadata": {},
     "output_type": "execute_result"
    }
   ],
   "source": [
    "vectors.shape"
   ]
  },
  {
   "cell_type": "code",
   "execution_count": 19,
   "id": "619b26b8-72b4-41a2-bed1-e6bd5898691b",
   "metadata": {},
   "outputs": [],
   "source": [
    "#now time for building a distance matrix"
   ]
  },
  {
   "cell_type": "code",
   "execution_count": 20,
   "id": "871f9734-2560-4975-80e3-dc132e540aaa",
   "metadata": {},
   "outputs": [],
   "source": [
    "from sklearn.metrics.pairwise import cosine_similarity"
   ]
  },
  {
   "cell_type": "code",
   "execution_count": 23,
   "id": "df925a83-806a-4552-ae43-4c9f985853b4",
   "metadata": {},
   "outputs": [],
   "source": [
    "distance_matrics=cosine_similarity(vectors)"
   ]
  },
  {
   "cell_type": "code",
   "execution_count": 24,
   "id": "dff599d9-0e4e-4daa-8bb4-1901a316d3f0",
   "metadata": {},
   "outputs": [
    {
     "data": {
      "text/plain": [
       "(2550, 2550)"
      ]
     },
     "execution_count": 24,
     "metadata": {},
     "output_type": "execute_result"
    }
   ],
   "source": [
    "distance_matrics.shape"
   ]
  },
  {
   "cell_type": "code",
   "execution_count": 25,
   "id": "68ec9bfd-bb50-4c29-b0c3-ec046d576ece",
   "metadata": {},
   "outputs": [
    {
     "data": {
      "text/plain": [
       "array([0.        , 0.08703883, 1.        , ..., 0.        , 0.01962672,\n",
       "       0.060003  ])"
      ]
     },
     "execution_count": 25,
     "metadata": {},
     "output_type": "execute_result"
    }
   ],
   "source": [
    "distance_matrics[2]"
   ]
  },
  {
   "cell_type": "code",
   "execution_count": 29,
   "id": "5e39ae3e-1295-421a-b343-b422a223a7db",
   "metadata": {},
   "outputs": [],
   "source": [
    "def srch(x):\n",
    "    i=df[df['title']==x].index[0]\n",
    "    l=distance_matrics[i]\n",
    "    sort_l=sorted(list(enumerate(l)),reverse=True,key=lambda x:x[1])\n",
    "    rec_l=sort_l[0:10]\n",
    "    for i in rec_l:\n",
    "        print(df['title'][i[0]])"
   ]
  },
  {
   "cell_type": "code",
   "execution_count": 31,
   "id": "cca0efdb-7d12-4b3b-b16f-cde4c9ef6b42",
   "metadata": {},
   "outputs": [
    {
     "name": "stdout",
     "output_type": "stream",
     "text": [
      "simplicity sells\n",
      "the music wars\n",
      "5 predictions, from 1984\n",
      "designing for simplicity\n",
      "how better tech could protect us from distraction\n",
      "toward a science of simplicity\n",
      "cool tricks your phone can do\n",
      "pointing to the future of ui\n",
      "rethink the desktop with bumptop\n",
      "the technology of storytelling\n"
     ]
    },
    {
     "data": {
      "text/plain": [
       "NoneType"
      ]
     },
     "execution_count": 31,
     "metadata": {},
     "output_type": "execute_result"
    }
   ],
   "source": [
    "srch('simplicity sells')"
   ]
  },
  {
   "cell_type": "code",
   "execution_count": 28,
   "id": "e3629a75-77d2-4ad9-932e-19352d34595a",
   "metadata": {},
   "outputs": [],
   "source": [
    "##now making an class so that preserve the object in pickle from\n"
   ]
  },
  {
   "cell_type": "code",
   "execution_count": 39,
   "id": "d036c005-867a-42e4-b9b7-8a6adba17da3",
   "metadata": {},
   "outputs": [],
   "source": [
    "class Recommend:    \n",
    "    def srch(self,x):\n",
    "        i=df[df['title']==x].index[0]\n",
    "        l=distance_matrics[i]\n",
    "        sort_l=sorted(list(enumerate(l)),reverse=True,key=lambda x:x[1])\n",
    "        rec_l=sort_l[0:10]\n",
    "        for i in rec_l:\n",
    "            print(df['title'][i[0]])\n",
    "         "
   ]
  },
  {
   "cell_type": "code",
   "execution_count": 40,
   "id": "09a23454-5ff8-4395-ba95-01bdeee10169",
   "metadata": {},
   "outputs": [],
   "source": [
    "obj=Recommend()"
   ]
  },
  {
   "cell_type": "code",
   "execution_count": null,
   "id": "526cccf3-48bf-4c2d-94c1-3cf1fa6004ae",
   "metadata": {},
   "outputs": [],
   "source": [
    "#now convert obj into pkl file"
   ]
  },
  {
   "cell_type": "code",
   "execution_count": 41,
   "id": "339f8b5c-6533-4af6-a160-ce37a26cbf61",
   "metadata": {},
   "outputs": [],
   "source": [
    "import pickle\n",
    "\n",
    "with open('my_Ted_object.pkl', 'wb') as file:\n",
    "    pickle.dump(obj, file)\n"
   ]
  },
  {
   "cell_type": "code",
   "execution_count": 43,
   "id": "d8945dec-eb23-40d9-8739-e8230c079735",
   "metadata": {},
   "outputs": [
    {
     "name": "stdout",
     "output_type": "stream",
     "text": [
      "the music wars\n",
      "simplicity sells\n",
      "cool tricks your phone can do\n",
      "the untouchable music of the theremin\n",
      "beethoven the businessman\n",
      "10 top time-saving tech tips\n",
      "the diy orchestra of the future\n",
      "a cello with many voices\n",
      "this is beatjazz\n",
      "the transformative power of classical music\n"
     ]
    }
   ],
   "source": [
    "with open('my_Ted_object.pkl', 'rb') as file:\n",
    "    loaded_object = pickle.load(file)\n",
    "\n",
    "loaded_object.srch('the music wars')\n",
    "# Output: MyClass(name=example, value=42)\n"
   ]
  },
  {
   "cell_type": "code",
   "execution_count": null,
   "id": "4cdbebf7-bfea-4af4-99d0-5f2f6a4d9dcc",
   "metadata": {},
   "outputs": [],
   "source": []
  }
 ],
 "metadata": {
  "kernelspec": {
   "display_name": "Python 3 (ipykernel)",
   "language": "python",
   "name": "python3"
  },
  "language_info": {
   "codemirror_mode": {
    "name": "ipython",
    "version": 3
   },
   "file_extension": ".py",
   "mimetype": "text/x-python",
   "name": "python",
   "nbconvert_exporter": "python",
   "pygments_lexer": "ipython3",
   "version": "3.11.7"
  }
 },
 "nbformat": 4,
 "nbformat_minor": 5
}
