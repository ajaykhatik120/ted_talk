{
 "cells": [
  {
   "cell_type": "code",
   "execution_count": 1,
   "id": "52851b2b-7cbd-4d54-8cbb-7bafa3e6cbdc",
   "metadata": {},
   "outputs": [],
   "source": [
    "import pandas as pd\n",
    "import numpy as np"
   ]
  },
  {
   "cell_type": "code",
   "execution_count": 2,
   "id": "dd539fdd-da6e-4d31-a9c2-9f233b39fc1a",
   "metadata": {},
   "outputs": [],
   "source": [
    "df=pd.read_csv('raw_ted_data.csv')"
   ]
  },
  {
   "cell_type": "code",
   "execution_count": 3,
   "id": "3640e912-0743-4756-993b-6794188f1893",
   "metadata": {},
   "outputs": [
    {
     "data": {
      "text/html": [
       "<div>\n",
       "<style scoped>\n",
       "    .dataframe tbody tr th:only-of-type {\n",
       "        vertical-align: middle;\n",
       "    }\n",
       "\n",
       "    .dataframe tbody tr th {\n",
       "        vertical-align: top;\n",
       "    }\n",
       "\n",
       "    .dataframe thead th {\n",
       "        text-align: right;\n",
       "    }\n",
       "</style>\n",
       "<table border=\"1\" class=\"dataframe\">\n",
       "  <thead>\n",
       "    <tr style=\"text-align: right;\">\n",
       "      <th></th>\n",
       "      <th>comments</th>\n",
       "      <th>description</th>\n",
       "      <th>duration</th>\n",
       "      <th>event</th>\n",
       "      <th>film_date</th>\n",
       "      <th>languages</th>\n",
       "      <th>main_speaker</th>\n",
       "      <th>name</th>\n",
       "      <th>num_speaker</th>\n",
       "      <th>published_date</th>\n",
       "      <th>ratings</th>\n",
       "      <th>related_talks</th>\n",
       "      <th>speaker_occupation</th>\n",
       "      <th>tags</th>\n",
       "      <th>title</th>\n",
       "      <th>url</th>\n",
       "      <th>views</th>\n",
       "    </tr>\n",
       "  </thead>\n",
       "  <tbody>\n",
       "    <tr>\n",
       "      <th>0</th>\n",
       "      <td>4553</td>\n",
       "      <td>Sir Ken Robinson makes an entertaining and pro...</td>\n",
       "      <td>1164</td>\n",
       "      <td>TED2006</td>\n",
       "      <td>1140825600</td>\n",
       "      <td>60</td>\n",
       "      <td>Ken Robinson</td>\n",
       "      <td>Ken Robinson: Do schools kill creativity?</td>\n",
       "      <td>1</td>\n",
       "      <td>1151367060</td>\n",
       "      <td>[{'id': 7, 'name': 'Funny', 'count': 19645}, {...</td>\n",
       "      <td>[{'id': 865, 'hero': 'https://pe.tedcdn.com/im...</td>\n",
       "      <td>Author/educator</td>\n",
       "      <td>['children', 'creativity', 'culture', 'dance',...</td>\n",
       "      <td>Do schools kill creativity?</td>\n",
       "      <td>https://www.ted.com/talks/ken_robinson_says_sc...</td>\n",
       "      <td>47227110</td>\n",
       "    </tr>\n",
       "    <tr>\n",
       "      <th>1</th>\n",
       "      <td>265</td>\n",
       "      <td>With the same humor and humanity he exuded in ...</td>\n",
       "      <td>977</td>\n",
       "      <td>TED2006</td>\n",
       "      <td>1140825600</td>\n",
       "      <td>43</td>\n",
       "      <td>Al Gore</td>\n",
       "      <td>Al Gore: Averting the climate crisis</td>\n",
       "      <td>1</td>\n",
       "      <td>1151367060</td>\n",
       "      <td>[{'id': 7, 'name': 'Funny', 'count': 544}, {'i...</td>\n",
       "      <td>[{'id': 243, 'hero': 'https://pe.tedcdn.com/im...</td>\n",
       "      <td>Climate advocate</td>\n",
       "      <td>['alternative energy', 'cars', 'climate change...</td>\n",
       "      <td>Averting the climate crisis</td>\n",
       "      <td>https://www.ted.com/talks/al_gore_on_averting_...</td>\n",
       "      <td>3200520</td>\n",
       "    </tr>\n",
       "    <tr>\n",
       "      <th>2</th>\n",
       "      <td>124</td>\n",
       "      <td>New York Times columnist David Pogue takes aim...</td>\n",
       "      <td>1286</td>\n",
       "      <td>TED2006</td>\n",
       "      <td>1140739200</td>\n",
       "      <td>26</td>\n",
       "      <td>David Pogue</td>\n",
       "      <td>David Pogue: Simplicity sells</td>\n",
       "      <td>1</td>\n",
       "      <td>1151367060</td>\n",
       "      <td>[{'id': 7, 'name': 'Funny', 'count': 964}, {'i...</td>\n",
       "      <td>[{'id': 1725, 'hero': 'https://pe.tedcdn.com/i...</td>\n",
       "      <td>Technology columnist</td>\n",
       "      <td>['computers', 'entertainment', 'interface desi...</td>\n",
       "      <td>Simplicity sells</td>\n",
       "      <td>https://www.ted.com/talks/david_pogue_says_sim...</td>\n",
       "      <td>1636292</td>\n",
       "    </tr>\n",
       "    <tr>\n",
       "      <th>3</th>\n",
       "      <td>200</td>\n",
       "      <td>In an emotionally charged talk, MacArthur-winn...</td>\n",
       "      <td>1116</td>\n",
       "      <td>TED2006</td>\n",
       "      <td>1140912000</td>\n",
       "      <td>35</td>\n",
       "      <td>Majora Carter</td>\n",
       "      <td>Majora Carter: Greening the ghetto</td>\n",
       "      <td>1</td>\n",
       "      <td>1151367060</td>\n",
       "      <td>[{'id': 3, 'name': 'Courageous', 'count': 760}...</td>\n",
       "      <td>[{'id': 1041, 'hero': 'https://pe.tedcdn.com/i...</td>\n",
       "      <td>Activist for environmental justice</td>\n",
       "      <td>['MacArthur grant', 'activism', 'business', 'c...</td>\n",
       "      <td>Greening the ghetto</td>\n",
       "      <td>https://www.ted.com/talks/majora_carter_s_tale...</td>\n",
       "      <td>1697550</td>\n",
       "    </tr>\n",
       "    <tr>\n",
       "      <th>4</th>\n",
       "      <td>593</td>\n",
       "      <td>You've never seen data presented like this. Wi...</td>\n",
       "      <td>1190</td>\n",
       "      <td>TED2006</td>\n",
       "      <td>1140566400</td>\n",
       "      <td>48</td>\n",
       "      <td>Hans Rosling</td>\n",
       "      <td>Hans Rosling: The best stats you've ever seen</td>\n",
       "      <td>1</td>\n",
       "      <td>1151440680</td>\n",
       "      <td>[{'id': 9, 'name': 'Ingenious', 'count': 3202}...</td>\n",
       "      <td>[{'id': 2056, 'hero': 'https://pe.tedcdn.com/i...</td>\n",
       "      <td>Global health expert; data visionary</td>\n",
       "      <td>['Africa', 'Asia', 'Google', 'demo', 'economic...</td>\n",
       "      <td>The best stats you've ever seen</td>\n",
       "      <td>https://www.ted.com/talks/hans_rosling_shows_t...</td>\n",
       "      <td>12005869</td>\n",
       "    </tr>\n",
       "  </tbody>\n",
       "</table>\n",
       "</div>"
      ],
      "text/plain": [
       "   comments                                        description  duration  \\\n",
       "0      4553  Sir Ken Robinson makes an entertaining and pro...      1164   \n",
       "1       265  With the same humor and humanity he exuded in ...       977   \n",
       "2       124  New York Times columnist David Pogue takes aim...      1286   \n",
       "3       200  In an emotionally charged talk, MacArthur-winn...      1116   \n",
       "4       593  You've never seen data presented like this. Wi...      1190   \n",
       "\n",
       "     event   film_date  languages   main_speaker  \\\n",
       "0  TED2006  1140825600         60   Ken Robinson   \n",
       "1  TED2006  1140825600         43        Al Gore   \n",
       "2  TED2006  1140739200         26    David Pogue   \n",
       "3  TED2006  1140912000         35  Majora Carter   \n",
       "4  TED2006  1140566400         48   Hans Rosling   \n",
       "\n",
       "                                            name  num_speaker  published_date  \\\n",
       "0      Ken Robinson: Do schools kill creativity?            1      1151367060   \n",
       "1           Al Gore: Averting the climate crisis            1      1151367060   \n",
       "2                  David Pogue: Simplicity sells            1      1151367060   \n",
       "3             Majora Carter: Greening the ghetto            1      1151367060   \n",
       "4  Hans Rosling: The best stats you've ever seen            1      1151440680   \n",
       "\n",
       "                                             ratings  \\\n",
       "0  [{'id': 7, 'name': 'Funny', 'count': 19645}, {...   \n",
       "1  [{'id': 7, 'name': 'Funny', 'count': 544}, {'i...   \n",
       "2  [{'id': 7, 'name': 'Funny', 'count': 964}, {'i...   \n",
       "3  [{'id': 3, 'name': 'Courageous', 'count': 760}...   \n",
       "4  [{'id': 9, 'name': 'Ingenious', 'count': 3202}...   \n",
       "\n",
       "                                       related_talks  \\\n",
       "0  [{'id': 865, 'hero': 'https://pe.tedcdn.com/im...   \n",
       "1  [{'id': 243, 'hero': 'https://pe.tedcdn.com/im...   \n",
       "2  [{'id': 1725, 'hero': 'https://pe.tedcdn.com/i...   \n",
       "3  [{'id': 1041, 'hero': 'https://pe.tedcdn.com/i...   \n",
       "4  [{'id': 2056, 'hero': 'https://pe.tedcdn.com/i...   \n",
       "\n",
       "                     speaker_occupation  \\\n",
       "0                       Author/educator   \n",
       "1                      Climate advocate   \n",
       "2                  Technology columnist   \n",
       "3    Activist for environmental justice   \n",
       "4  Global health expert; data visionary   \n",
       "\n",
       "                                                tags  \\\n",
       "0  ['children', 'creativity', 'culture', 'dance',...   \n",
       "1  ['alternative energy', 'cars', 'climate change...   \n",
       "2  ['computers', 'entertainment', 'interface desi...   \n",
       "3  ['MacArthur grant', 'activism', 'business', 'c...   \n",
       "4  ['Africa', 'Asia', 'Google', 'demo', 'economic...   \n",
       "\n",
       "                             title  \\\n",
       "0      Do schools kill creativity?   \n",
       "1      Averting the climate crisis   \n",
       "2                 Simplicity sells   \n",
       "3              Greening the ghetto   \n",
       "4  The best stats you've ever seen   \n",
       "\n",
       "                                                 url     views  \n",
       "0  https://www.ted.com/talks/ken_robinson_says_sc...  47227110  \n",
       "1  https://www.ted.com/talks/al_gore_on_averting_...   3200520  \n",
       "2  https://www.ted.com/talks/david_pogue_says_sim...   1636292  \n",
       "3  https://www.ted.com/talks/majora_carter_s_tale...   1697550  \n",
       "4  https://www.ted.com/talks/hans_rosling_shows_t...  12005869  "
      ]
     },
     "execution_count": 3,
     "metadata": {},
     "output_type": "execute_result"
    }
   ],
   "source": [
    "df.head()"
   ]
  },
  {
   "cell_type": "code",
   "execution_count": 4,
   "id": "cf5589d1-2920-4722-9bc4-aa54659d781c",
   "metadata": {},
   "outputs": [],
   "source": [
    "df=df[['description','event','main_speaker','ratings','speaker_occupation','tags','title']]"
   ]
  },
  {
   "cell_type": "code",
   "execution_count": 5,
   "id": "c38cb9a9-90e9-48d5-bfcc-e6cc0875ce5c",
   "metadata": {},
   "outputs": [
    {
     "data": {
      "text/html": [
       "<div>\n",
       "<style scoped>\n",
       "    .dataframe tbody tr th:only-of-type {\n",
       "        vertical-align: middle;\n",
       "    }\n",
       "\n",
       "    .dataframe tbody tr th {\n",
       "        vertical-align: top;\n",
       "    }\n",
       "\n",
       "    .dataframe thead th {\n",
       "        text-align: right;\n",
       "    }\n",
       "</style>\n",
       "<table border=\"1\" class=\"dataframe\">\n",
       "  <thead>\n",
       "    <tr style=\"text-align: right;\">\n",
       "      <th></th>\n",
       "      <th>description</th>\n",
       "      <th>event</th>\n",
       "      <th>main_speaker</th>\n",
       "      <th>ratings</th>\n",
       "      <th>speaker_occupation</th>\n",
       "      <th>tags</th>\n",
       "      <th>title</th>\n",
       "    </tr>\n",
       "  </thead>\n",
       "  <tbody>\n",
       "    <tr>\n",
       "      <th>0</th>\n",
       "      <td>Sir Ken Robinson makes an entertaining and pro...</td>\n",
       "      <td>TED2006</td>\n",
       "      <td>Ken Robinson</td>\n",
       "      <td>[{'id': 7, 'name': 'Funny', 'count': 19645}, {...</td>\n",
       "      <td>Author/educator</td>\n",
       "      <td>['children', 'creativity', 'culture', 'dance',...</td>\n",
       "      <td>Do schools kill creativity?</td>\n",
       "    </tr>\n",
       "    <tr>\n",
       "      <th>1</th>\n",
       "      <td>With the same humor and humanity he exuded in ...</td>\n",
       "      <td>TED2006</td>\n",
       "      <td>Al Gore</td>\n",
       "      <td>[{'id': 7, 'name': 'Funny', 'count': 544}, {'i...</td>\n",
       "      <td>Climate advocate</td>\n",
       "      <td>['alternative energy', 'cars', 'climate change...</td>\n",
       "      <td>Averting the climate crisis</td>\n",
       "    </tr>\n",
       "    <tr>\n",
       "      <th>2</th>\n",
       "      <td>New York Times columnist David Pogue takes aim...</td>\n",
       "      <td>TED2006</td>\n",
       "      <td>David Pogue</td>\n",
       "      <td>[{'id': 7, 'name': 'Funny', 'count': 964}, {'i...</td>\n",
       "      <td>Technology columnist</td>\n",
       "      <td>['computers', 'entertainment', 'interface desi...</td>\n",
       "      <td>Simplicity sells</td>\n",
       "    </tr>\n",
       "    <tr>\n",
       "      <th>3</th>\n",
       "      <td>In an emotionally charged talk, MacArthur-winn...</td>\n",
       "      <td>TED2006</td>\n",
       "      <td>Majora Carter</td>\n",
       "      <td>[{'id': 3, 'name': 'Courageous', 'count': 760}...</td>\n",
       "      <td>Activist for environmental justice</td>\n",
       "      <td>['MacArthur grant', 'activism', 'business', 'c...</td>\n",
       "      <td>Greening the ghetto</td>\n",
       "    </tr>\n",
       "    <tr>\n",
       "      <th>4</th>\n",
       "      <td>You've never seen data presented like this. Wi...</td>\n",
       "      <td>TED2006</td>\n",
       "      <td>Hans Rosling</td>\n",
       "      <td>[{'id': 9, 'name': 'Ingenious', 'count': 3202}...</td>\n",
       "      <td>Global health expert; data visionary</td>\n",
       "      <td>['Africa', 'Asia', 'Google', 'demo', 'economic...</td>\n",
       "      <td>The best stats you've ever seen</td>\n",
       "    </tr>\n",
       "  </tbody>\n",
       "</table>\n",
       "</div>"
      ],
      "text/plain": [
       "                                         description    event   main_speaker  \\\n",
       "0  Sir Ken Robinson makes an entertaining and pro...  TED2006   Ken Robinson   \n",
       "1  With the same humor and humanity he exuded in ...  TED2006        Al Gore   \n",
       "2  New York Times columnist David Pogue takes aim...  TED2006    David Pogue   \n",
       "3  In an emotionally charged talk, MacArthur-winn...  TED2006  Majora Carter   \n",
       "4  You've never seen data presented like this. Wi...  TED2006   Hans Rosling   \n",
       "\n",
       "                                             ratings  \\\n",
       "0  [{'id': 7, 'name': 'Funny', 'count': 19645}, {...   \n",
       "1  [{'id': 7, 'name': 'Funny', 'count': 544}, {'i...   \n",
       "2  [{'id': 7, 'name': 'Funny', 'count': 964}, {'i...   \n",
       "3  [{'id': 3, 'name': 'Courageous', 'count': 760}...   \n",
       "4  [{'id': 9, 'name': 'Ingenious', 'count': 3202}...   \n",
       "\n",
       "                     speaker_occupation  \\\n",
       "0                       Author/educator   \n",
       "1                      Climate advocate   \n",
       "2                  Technology columnist   \n",
       "3    Activist for environmental justice   \n",
       "4  Global health expert; data visionary   \n",
       "\n",
       "                                                tags  \\\n",
       "0  ['children', 'creativity', 'culture', 'dance',...   \n",
       "1  ['alternative energy', 'cars', 'climate change...   \n",
       "2  ['computers', 'entertainment', 'interface desi...   \n",
       "3  ['MacArthur grant', 'activism', 'business', 'c...   \n",
       "4  ['Africa', 'Asia', 'Google', 'demo', 'economic...   \n",
       "\n",
       "                             title  \n",
       "0      Do schools kill creativity?  \n",
       "1      Averting the climate crisis  \n",
       "2                 Simplicity sells  \n",
       "3              Greening the ghetto  \n",
       "4  The best stats you've ever seen  "
      ]
     },
     "execution_count": 5,
     "metadata": {},
     "output_type": "execute_result"
    }
   ],
   "source": [
    "df.head()"
   ]
  },
  {
   "cell_type": "code",
   "execution_count": 6,
   "id": "91ab0e6f-20ee-4dd5-86cd-aacef8b16c05",
   "metadata": {},
   "outputs": [],
   "source": [
    "l=eval(df['ratings'].values[1])"
   ]
  },
  {
   "cell_type": "code",
   "execution_count": 7,
   "id": "928e5805-0a3d-4a55-8e66-f62de1e89713",
   "metadata": {},
   "outputs": [],
   "source": [
    "x=[i['name'] for i in l]"
   ]
  },
  {
   "cell_type": "code",
   "execution_count": 8,
   "id": "7c5a388c-34ac-4c19-8acb-8c3ab240389a",
   "metadata": {},
   "outputs": [
    {
     "data": {
      "text/plain": [
       "['Funny',\n",
       " 'Courageous',\n",
       " 'Confusing',\n",
       " 'Beautiful',\n",
       " 'Unconvincing',\n",
       " 'Longwinded',\n",
       " 'Informative',\n",
       " 'Inspiring',\n",
       " 'Fascinating',\n",
       " 'Ingenious',\n",
       " 'Persuasive',\n",
       " 'Jaw-dropping',\n",
       " 'Obnoxious',\n",
       " 'OK']"
      ]
     },
     "execution_count": 8,
     "metadata": {},
     "output_type": "execute_result"
    }
   ],
   "source": [
    "x"
   ]
  },
  {
   "cell_type": "code",
   "execution_count": 9,
   "id": "f9b65eba-5b5e-4440-9c3f-13faee572282",
   "metadata": {},
   "outputs": [],
   "source": [
    "k=[eval(l) for l in df['ratings'].values]"
   ]
  },
  {
   "cell_type": "code",
   "execution_count": 10,
   "id": "64679364-e3a7-41f7-ac30-071ab79d4437",
   "metadata": {},
   "outputs": [],
   "source": [
    "def comnt(k):\n",
    "    con=[]\n",
    "    for i in k:\n",
    "        temp=''\n",
    "        for j in i: \n",
    "            temp=temp+j['name']+','    \n",
    "        con.append(temp[:-1])\n",
    "    return con\n",
    "            "
   ]
  },
  {
   "cell_type": "code",
   "execution_count": 11,
   "id": "ec542919-2ee9-4bc8-93c0-311de13e59c5",
   "metadata": {},
   "outputs": [],
   "source": [
    "comment=comnt(k)"
   ]
  },
  {
   "cell_type": "code",
   "execution_count": 12,
   "id": "e24d452d-9f34-4868-8f03-b87e250c2360",
   "metadata": {},
   "outputs": [],
   "source": [
    "comment_arry=np.array(comment)"
   ]
  },
  {
   "cell_type": "code",
   "execution_count": 13,
   "id": "a384d656-0c49-43e9-9c66-2a2d8189a024",
   "metadata": {},
   "outputs": [
    {
     "data": {
      "text/plain": [
       "array([['Funny,Beautiful,Ingenious,Courageous,Longwinded,Confusing,Informative,Fascinating,Unconvincing,Persuasive,Jaw-dropping,OK,Obnoxious,Inspiring',\n",
       "        'Funny,Courageous,Confusing,Beautiful,Unconvincing,Longwinded,Informative,Inspiring,Fascinating,Ingenious,Persuasive,Jaw-dropping,Obnoxious,OK',\n",
       "        'Funny,Courageous,Ingenious,Beautiful,Unconvincing,Longwinded,Informative,Inspiring,Fascinating,Confusing,OK,Persuasive,Jaw-dropping,Obnoxious',\n",
       "        ...,\n",
       "        'Beautiful,Informative,Ingenious,Inspiring,Courageous,Confusing,Fascinating,Unconvincing,OK,Persuasive,Funny,Jaw-dropping,Longwinded,Obnoxious',\n",
       "        'Longwinded,Unconvincing,Funny,Inspiring,Fascinating,Informative,Ingenious,Persuasive,Courageous,Beautiful,OK,Obnoxious,Jaw-dropping,Confusing',\n",
       "        'Unconvincing,Informative,Inspiring,OK,Fascinating,Ingenious,Confusing,Obnoxious,Beautiful,Longwinded,Persuasive,Jaw-dropping,Courageous,Funny']],\n",
       "      dtype='<U141')"
      ]
     },
     "execution_count": 13,
     "metadata": {},
     "output_type": "execute_result"
    }
   ],
   "source": [
    "comment_arry.reshape(1,2550)"
   ]
  },
  {
   "cell_type": "code",
   "execution_count": 14,
   "id": "053b2b72-3c78-4609-a217-08cb37fc6440",
   "metadata": {},
   "outputs": [],
   "source": [
    "df['ratings']=comment_arry"
   ]
  },
  {
   "cell_type": "code",
   "execution_count": 15,
   "id": "af28b9a3-df7f-4ae4-b268-db92c5219117",
   "metadata": {},
   "outputs": [
    {
     "data": {
      "text/plain": [
       "(2550,)"
      ]
     },
     "execution_count": 15,
     "metadata": {},
     "output_type": "execute_result"
    }
   ],
   "source": [
    "df['title'].shape"
   ]
  },
  {
   "cell_type": "code",
   "execution_count": 16,
   "id": "0fd3a927-2678-46df-9263-31389b19d8cb",
   "metadata": {},
   "outputs": [
    {
     "data": {
      "text/plain": [
       "'Do schools kill creativity?'"
      ]
     },
     "execution_count": 16,
     "metadata": {},
     "output_type": "execute_result"
    }
   ],
   "source": [
    "df['title'].values[0]"
   ]
  },
  {
   "cell_type": "code",
   "execution_count": 17,
   "id": "5e481c52-74cd-4ab4-adf7-b60ac5d67a6b",
   "metadata": {},
   "outputs": [
    {
     "data": {
      "text/plain": [
       "0       Funny,Beautiful,Ingenious,Courageous,Longwinde...\n",
       "1       Funny,Courageous,Confusing,Beautiful,Unconvinc...\n",
       "2       Funny,Courageous,Ingenious,Beautiful,Unconvinc...\n",
       "3       Courageous,Beautiful,Confusing,Funny,Ingenious...\n",
       "4       Ingenious,Funny,Beautiful,Courageous,Longwinde...\n",
       "                              ...                        \n",
       "2545    Courageous,Informative,Inspiring,Funny,Persuas...\n",
       "2546    Fascinating,Informative,Inspiring,Persuasive,J...\n",
       "2547    Beautiful,Informative,Ingenious,Inspiring,Cour...\n",
       "2548    Longwinded,Unconvincing,Funny,Inspiring,Fascin...\n",
       "2549    Unconvincing,Informative,Inspiring,OK,Fascinat...\n",
       "Name: ratings, Length: 2550, dtype: object"
      ]
     },
     "execution_count": 17,
     "metadata": {},
     "output_type": "execute_result"
    }
   ],
   "source": [
    "df['ratings']"
   ]
  },
  {
   "cell_type": "code",
   "execution_count": 20,
   "id": "8b601cca-957c-411e-b2b5-d4aa33d1f545",
   "metadata": {},
   "outputs": [],
   "source": [
    "def spl(x):\n",
    "    return x.split(' ')"
   ]
  },
  {
   "cell_type": "code",
   "execution_count": 21,
   "id": "6d9bb8a8-93de-4e0c-89dd-6597351d88ab",
   "metadata": {},
   "outputs": [],
   "source": [
    "df['title_temp']=df['title'].apply(spl)"
   ]
  },
  {
   "cell_type": "code",
   "execution_count": 19,
   "id": "61e79776-6adb-46bd-9656-e043ddae1a1f",
   "metadata": {},
   "outputs": [],
   "source": []
  },
  {
   "cell_type": "code",
   "execution_count": 22,
   "id": "b787eb45-8ff6-44f2-b704-4b7ce7f7369b",
   "metadata": {},
   "outputs": [
    {
     "data": {
      "text/html": [
       "<div>\n",
       "<style scoped>\n",
       "    .dataframe tbody tr th:only-of-type {\n",
       "        vertical-align: middle;\n",
       "    }\n",
       "\n",
       "    .dataframe tbody tr th {\n",
       "        vertical-align: top;\n",
       "    }\n",
       "\n",
       "    .dataframe thead th {\n",
       "        text-align: right;\n",
       "    }\n",
       "</style>\n",
       "<table border=\"1\" class=\"dataframe\">\n",
       "  <thead>\n",
       "    <tr style=\"text-align: right;\">\n",
       "      <th></th>\n",
       "      <th>description</th>\n",
       "      <th>event</th>\n",
       "      <th>main_speaker</th>\n",
       "      <th>ratings</th>\n",
       "      <th>speaker_occupation</th>\n",
       "      <th>tags</th>\n",
       "      <th>title</th>\n",
       "      <th>title_temp</th>\n",
       "    </tr>\n",
       "  </thead>\n",
       "  <tbody>\n",
       "    <tr>\n",
       "      <th>0</th>\n",
       "      <td>Sir Ken Robinson makes an entertaining and pro...</td>\n",
       "      <td>TED2006</td>\n",
       "      <td>Ken Robinson</td>\n",
       "      <td>Funny,Beautiful,Ingenious,Courageous,Longwinde...</td>\n",
       "      <td>Author/educator</td>\n",
       "      <td>['children', 'creativity', 'culture', 'dance',...</td>\n",
       "      <td>Do schools kill creativity?</td>\n",
       "      <td>[Do, schools, kill, creativity?]</td>\n",
       "    </tr>\n",
       "    <tr>\n",
       "      <th>1</th>\n",
       "      <td>With the same humor and humanity he exuded in ...</td>\n",
       "      <td>TED2006</td>\n",
       "      <td>Al Gore</td>\n",
       "      <td>Funny,Courageous,Confusing,Beautiful,Unconvinc...</td>\n",
       "      <td>Climate advocate</td>\n",
       "      <td>['alternative energy', 'cars', 'climate change...</td>\n",
       "      <td>Averting the climate crisis</td>\n",
       "      <td>[Averting, the, climate, crisis]</td>\n",
       "    </tr>\n",
       "  </tbody>\n",
       "</table>\n",
       "</div>"
      ],
      "text/plain": [
       "                                         description    event  main_speaker  \\\n",
       "0  Sir Ken Robinson makes an entertaining and pro...  TED2006  Ken Robinson   \n",
       "1  With the same humor and humanity he exuded in ...  TED2006       Al Gore   \n",
       "\n",
       "                                             ratings speaker_occupation  \\\n",
       "0  Funny,Beautiful,Ingenious,Courageous,Longwinde...    Author/educator   \n",
       "1  Funny,Courageous,Confusing,Beautiful,Unconvinc...   Climate advocate   \n",
       "\n",
       "                                                tags  \\\n",
       "0  ['children', 'creativity', 'culture', 'dance',...   \n",
       "1  ['alternative energy', 'cars', 'climate change...   \n",
       "\n",
       "                         title                        title_temp  \n",
       "0  Do schools kill creativity?  [Do, schools, kill, creativity?]  \n",
       "1  Averting the climate crisis  [Averting, the, climate, crisis]  "
      ]
     },
     "execution_count": 22,
     "metadata": {},
     "output_type": "execute_result"
    }
   ],
   "source": [
    "df.head(2)"
   ]
  },
  {
   "cell_type": "code",
   "execution_count": 23,
   "id": "882acafe-196b-4760-b8b5-1d1df104454e",
   "metadata": {},
   "outputs": [
    {
     "data": {
      "text/plain": [
       "array(['Funny,Beautiful,Ingenious,Courageous,Longwinded,Confusing,Informative,Fascinating,Unconvincing,Persuasive,Jaw-dropping,OK,Obnoxious,Inspiring',\n",
       "       'Funny,Courageous,Confusing,Beautiful,Unconvincing,Longwinded,Informative,Inspiring,Fascinating,Ingenious,Persuasive,Jaw-dropping,Obnoxious,OK',\n",
       "       'Funny,Courageous,Ingenious,Beautiful,Unconvincing,Longwinded,Informative,Inspiring,Fascinating,Confusing,OK,Persuasive,Jaw-dropping,Obnoxious',\n",
       "       ...,\n",
       "       'Beautiful,Informative,Ingenious,Inspiring,Courageous,Confusing,Fascinating,Unconvincing,OK,Persuasive,Funny,Jaw-dropping,Longwinded,Obnoxious',\n",
       "       'Longwinded,Unconvincing,Funny,Inspiring,Fascinating,Informative,Ingenious,Persuasive,Courageous,Beautiful,OK,Obnoxious,Jaw-dropping,Confusing',\n",
       "       'Unconvincing,Informative,Inspiring,OK,Fascinating,Ingenious,Confusing,Obnoxious,Beautiful,Longwinded,Persuasive,Jaw-dropping,Courageous,Funny'],\n",
       "      dtype=object)"
      ]
     },
     "execution_count": 23,
     "metadata": {},
     "output_type": "execute_result"
    }
   ],
   "source": [
    "df['ratings'].values"
   ]
  },
  {
   "cell_type": "code",
   "execution_count": 24,
   "id": "b6a232d1-fd64-40e1-add1-d9632f04ae54",
   "metadata": {},
   "outputs": [],
   "source": [
    "def new_spl(x):\n",
    "    return x.split(',')"
   ]
  },
  {
   "cell_type": "code",
   "execution_count": 25,
   "id": "37430738-15bf-4f4f-8317-e667c226ffd2",
   "metadata": {},
   "outputs": [],
   "source": [
    "df['ratings']=df['ratings'].apply(new_spl)"
   ]
  },
  {
   "cell_type": "code",
   "execution_count": 26,
   "id": "b0701b1b-4db7-4349-92b2-53ae7d72c121",
   "metadata": {},
   "outputs": [
    {
     "data": {
      "text/plain": [
       "array(['Ken Robinson', 'Al Gore', 'David Pogue', ..., 'Radhika Nagpal',\n",
       "       'Theo E.J. Wilson', 'Karoliina Korppoo'], dtype=object)"
      ]
     },
     "execution_count": 26,
     "metadata": {},
     "output_type": "execute_result"
    }
   ],
   "source": [
    "df['main_speaker'].values"
   ]
  },
  {
   "cell_type": "code",
   "execution_count": 27,
   "id": "2899432b-ec35-4430-843f-cd414d24698c",
   "metadata": {},
   "outputs": [],
   "source": [
    "def speaker(x):\n",
    "    temp=[]\n",
    "    temp.append(x)\n",
    "    return temp"
   ]
  },
  {
   "cell_type": "code",
   "execution_count": 28,
   "id": "29654d21-5790-4004-94ac-00d0adda800c",
   "metadata": {},
   "outputs": [
    {
     "name": "stdout",
     "output_type": "stream",
     "text": [
      "['hello']\n"
     ]
    }
   ],
   "source": [
    "print(speaker('hello'))"
   ]
  },
  {
   "cell_type": "code",
   "execution_count": 29,
   "id": "48190719-b375-4a35-a899-5f5705126559",
   "metadata": {},
   "outputs": [],
   "source": [
    "df['main_speaker']=df['main_speaker'].apply(speaker)"
   ]
  },
  {
   "cell_type": "code",
   "execution_count": 30,
   "id": "7922ce7b-0944-4cd1-905a-f16fe1105a1f",
   "metadata": {},
   "outputs": [
    {
     "data": {
      "text/plain": [
       "array(['Sir Ken Robinson makes an entertaining and profoundly moving case for creating an education system that nurtures (rather than undermines) creativity.',\n",
       "       'With the same humor and humanity he exuded in \"An Inconvenient Truth,\" Al Gore spells out 15 ways that individuals can address climate change immediately, from buying a hybrid to inventing a new, hotter brand name for global warming.',\n",
       "       'New York Times columnist David Pogue takes aim at technology’s worst interface-design offenders, and provides encouraging examples of products that get it right. To funny things up, he bursts into song.',\n",
       "       ...,\n",
       "       'Science fiction visions of the future show us AI built to replicate our way of thinking -- but what if we modeled it instead on the other kinds of intelligence found in nature? Robotics engineer Radhika Nagpal studies the collective intelligence displayed by insects and fish schools, seeking to understand their rules of engagement. In a visionary talk, she presents her work creating artificial collective power and previews a future where swarms of robots work together to build flood barriers, pollinate crops, monitor coral reefs and form constellations of satellites.',\n",
       "       'In an unmissable talk about race and politics in America, Theo E.J. Wilson tells the story of becoming Lucius25, white supremacist lurker, and the unexpected compassion and surprising perspective he found from engaging with people he disagrees with. He encourages us to let go of fear, embrace curiosity and have courageous conversations with people who think differently from us. \"Conversations stop violence, conversations start countries and build bridges,\" he says.',\n",
       "       'With more than half of the world population living in cities, one thing is undeniable: we are an urban species. Part game, part urban planning sketching tool, \"Cities: Skylines\" encourages people to use their creativity and self-expression to rethink the cities of tomorrow. Designer Karoliina Korppoo takes us on a tour through some extraordinary places users have created, from futuristic fantasy cities to remarkably realistic landscapes. What does your dream city look like?'],\n",
       "      dtype=object)"
      ]
     },
     "execution_count": 30,
     "metadata": {},
     "output_type": "execute_result"
    }
   ],
   "source": [
    "df['description'].values"
   ]
  },
  {
   "cell_type": "code",
   "execution_count": 31,
   "id": "07f1b65e-fa5c-4676-b8f4-734ff2d350bc",
   "metadata": {},
   "outputs": [],
   "source": [
    "def chng_dis(x):\n",
    "    return x.split(' ')"
   ]
  },
  {
   "cell_type": "code",
   "execution_count": 32,
   "id": "cd3b98b0-cd75-4963-ac80-643d1b19af17",
   "metadata": {},
   "outputs": [],
   "source": [
    "df['description']=df['description'].apply(chng_dis)"
   ]
  },
  {
   "cell_type": "code",
   "execution_count": 33,
   "id": "953f5e4c-8569-4086-bba1-fef4993b97be",
   "metadata": {},
   "outputs": [],
   "source": [
    "df['event']=df['event'].apply(chng_dis)"
   ]
  },
  {
   "cell_type": "code",
   "execution_count": 34,
   "id": "6a912dca-c0a8-43e8-9ce0-7d29b8a80921",
   "metadata": {},
   "outputs": [
    {
     "data": {
      "text/html": [
       "<div>\n",
       "<style scoped>\n",
       "    .dataframe tbody tr th:only-of-type {\n",
       "        vertical-align: middle;\n",
       "    }\n",
       "\n",
       "    .dataframe tbody tr th {\n",
       "        vertical-align: top;\n",
       "    }\n",
       "\n",
       "    .dataframe thead th {\n",
       "        text-align: right;\n",
       "    }\n",
       "</style>\n",
       "<table border=\"1\" class=\"dataframe\">\n",
       "  <thead>\n",
       "    <tr style=\"text-align: right;\">\n",
       "      <th></th>\n",
       "      <th>description</th>\n",
       "      <th>event</th>\n",
       "      <th>main_speaker</th>\n",
       "      <th>ratings</th>\n",
       "      <th>speaker_occupation</th>\n",
       "      <th>tags</th>\n",
       "      <th>title</th>\n",
       "      <th>title_temp</th>\n",
       "    </tr>\n",
       "  </thead>\n",
       "  <tbody>\n",
       "    <tr>\n",
       "      <th>0</th>\n",
       "      <td>[Sir, Ken, Robinson, makes, an, entertaining, ...</td>\n",
       "      <td>[TED2006]</td>\n",
       "      <td>[Ken Robinson]</td>\n",
       "      <td>[Funny, Beautiful, Ingenious, Courageous, Long...</td>\n",
       "      <td>Author/educator</td>\n",
       "      <td>['children', 'creativity', 'culture', 'dance',...</td>\n",
       "      <td>Do schools kill creativity?</td>\n",
       "      <td>[Do, schools, kill, creativity?]</td>\n",
       "    </tr>\n",
       "    <tr>\n",
       "      <th>1</th>\n",
       "      <td>[With, the, same, humor, and, humanity, he, ex...</td>\n",
       "      <td>[TED2006]</td>\n",
       "      <td>[Al Gore]</td>\n",
       "      <td>[Funny, Courageous, Confusing, Beautiful, Unco...</td>\n",
       "      <td>Climate advocate</td>\n",
       "      <td>['alternative energy', 'cars', 'climate change...</td>\n",
       "      <td>Averting the climate crisis</td>\n",
       "      <td>[Averting, the, climate, crisis]</td>\n",
       "    </tr>\n",
       "  </tbody>\n",
       "</table>\n",
       "</div>"
      ],
      "text/plain": [
       "                                         description      event  \\\n",
       "0  [Sir, Ken, Robinson, makes, an, entertaining, ...  [TED2006]   \n",
       "1  [With, the, same, humor, and, humanity, he, ex...  [TED2006]   \n",
       "\n",
       "     main_speaker                                            ratings  \\\n",
       "0  [Ken Robinson]  [Funny, Beautiful, Ingenious, Courageous, Long...   \n",
       "1       [Al Gore]  [Funny, Courageous, Confusing, Beautiful, Unco...   \n",
       "\n",
       "  speaker_occupation                                               tags  \\\n",
       "0    Author/educator  ['children', 'creativity', 'culture', 'dance',...   \n",
       "1   Climate advocate  ['alternative energy', 'cars', 'climate change...   \n",
       "\n",
       "                         title                        title_temp  \n",
       "0  Do schools kill creativity?  [Do, schools, kill, creativity?]  \n",
       "1  Averting the climate crisis  [Averting, the, climate, crisis]  "
      ]
     },
     "execution_count": 34,
     "metadata": {},
     "output_type": "execute_result"
    }
   ],
   "source": [
    "df.head(2)"
   ]
  },
  {
   "cell_type": "code",
   "execution_count": 35,
   "id": "b57ab054-f9f6-4dcd-984b-4fed7d9859f0",
   "metadata": {},
   "outputs": [
    {
     "data": {
      "text/plain": [
       "array([\"['children', 'creativity', 'culture', 'dance', 'education', 'parenting', 'teaching']\",\n",
       "       \"['alternative energy', 'cars', 'climate change', 'culture', 'environment', 'global issues', 'science', 'sustainability', 'technology']\",\n",
       "       \"['computers', 'entertainment', 'interface design', 'media', 'music', 'performance', 'simplicity', 'software', 'technology']\",\n",
       "       ...,\n",
       "       \"['AI', 'ants', 'fish', 'future', 'innovation', 'insects', 'intelligence', 'robots', 'science']\",\n",
       "       \"['Internet', 'TEDx', 'United States', 'community', 'compassion', 'politics', 'race']\",\n",
       "       \"['cities', 'design', 'future', 'infrastructure', 'play', 'public spaces', 'society', 'software', 'urban planning']\"],\n",
       "      dtype=object)"
      ]
     },
     "execution_count": 35,
     "metadata": {},
     "output_type": "execute_result"
    }
   ],
   "source": [
    "df['tags'].values"
   ]
  },
  {
   "cell_type": "code",
   "execution_count": 36,
   "id": "418c7c2b-b235-4d7a-a1c4-57c601555a5f",
   "metadata": {},
   "outputs": [],
   "source": [
    "def chng_tags(x):\n",
    "    return eval(x)"
   ]
  },
  {
   "cell_type": "code",
   "execution_count": 37,
   "id": "83359947-c3a6-489e-a7c5-b62e81c900f2",
   "metadata": {},
   "outputs": [],
   "source": [
    "df['tags']=df['tags'].apply(chng_tags)"
   ]
  },
  {
   "cell_type": "code",
   "execution_count": 38,
   "id": "bbc508f0-bda9-4366-b320-8850b7e6bb17",
   "metadata": {},
   "outputs": [
    {
     "data": {
      "text/html": [
       "<div>\n",
       "<style scoped>\n",
       "    .dataframe tbody tr th:only-of-type {\n",
       "        vertical-align: middle;\n",
       "    }\n",
       "\n",
       "    .dataframe tbody tr th {\n",
       "        vertical-align: top;\n",
       "    }\n",
       "\n",
       "    .dataframe thead th {\n",
       "        text-align: right;\n",
       "    }\n",
       "</style>\n",
       "<table border=\"1\" class=\"dataframe\">\n",
       "  <thead>\n",
       "    <tr style=\"text-align: right;\">\n",
       "      <th></th>\n",
       "      <th>description</th>\n",
       "      <th>event</th>\n",
       "      <th>main_speaker</th>\n",
       "      <th>ratings</th>\n",
       "      <th>speaker_occupation</th>\n",
       "      <th>tags</th>\n",
       "      <th>title</th>\n",
       "      <th>title_temp</th>\n",
       "    </tr>\n",
       "  </thead>\n",
       "  <tbody>\n",
       "    <tr>\n",
       "      <th>0</th>\n",
       "      <td>[Sir, Ken, Robinson, makes, an, entertaining, ...</td>\n",
       "      <td>[TED2006]</td>\n",
       "      <td>[Ken Robinson]</td>\n",
       "      <td>[Funny, Beautiful, Ingenious, Courageous, Long...</td>\n",
       "      <td>Author/educator</td>\n",
       "      <td>[children, creativity, culture, dance, educati...</td>\n",
       "      <td>Do schools kill creativity?</td>\n",
       "      <td>[Do, schools, kill, creativity?]</td>\n",
       "    </tr>\n",
       "    <tr>\n",
       "      <th>1</th>\n",
       "      <td>[With, the, same, humor, and, humanity, he, ex...</td>\n",
       "      <td>[TED2006]</td>\n",
       "      <td>[Al Gore]</td>\n",
       "      <td>[Funny, Courageous, Confusing, Beautiful, Unco...</td>\n",
       "      <td>Climate advocate</td>\n",
       "      <td>[alternative energy, cars, climate change, cul...</td>\n",
       "      <td>Averting the climate crisis</td>\n",
       "      <td>[Averting, the, climate, crisis]</td>\n",
       "    </tr>\n",
       "    <tr>\n",
       "      <th>2</th>\n",
       "      <td>[New, York, Times, columnist, David, Pogue, ta...</td>\n",
       "      <td>[TED2006]</td>\n",
       "      <td>[David Pogue]</td>\n",
       "      <td>[Funny, Courageous, Ingenious, Beautiful, Unco...</td>\n",
       "      <td>Technology columnist</td>\n",
       "      <td>[computers, entertainment, interface design, m...</td>\n",
       "      <td>Simplicity sells</td>\n",
       "      <td>[Simplicity, sells]</td>\n",
       "    </tr>\n",
       "  </tbody>\n",
       "</table>\n",
       "</div>"
      ],
      "text/plain": [
       "                                         description      event  \\\n",
       "0  [Sir, Ken, Robinson, makes, an, entertaining, ...  [TED2006]   \n",
       "1  [With, the, same, humor, and, humanity, he, ex...  [TED2006]   \n",
       "2  [New, York, Times, columnist, David, Pogue, ta...  [TED2006]   \n",
       "\n",
       "     main_speaker                                            ratings  \\\n",
       "0  [Ken Robinson]  [Funny, Beautiful, Ingenious, Courageous, Long...   \n",
       "1       [Al Gore]  [Funny, Courageous, Confusing, Beautiful, Unco...   \n",
       "2   [David Pogue]  [Funny, Courageous, Ingenious, Beautiful, Unco...   \n",
       "\n",
       "     speaker_occupation                                               tags  \\\n",
       "0       Author/educator  [children, creativity, culture, dance, educati...   \n",
       "1      Climate advocate  [alternative energy, cars, climate change, cul...   \n",
       "2  Technology columnist  [computers, entertainment, interface design, m...   \n",
       "\n",
       "                         title                        title_temp  \n",
       "0  Do schools kill creativity?  [Do, schools, kill, creativity?]  \n",
       "1  Averting the climate crisis  [Averting, the, climate, crisis]  \n",
       "2             Simplicity sells               [Simplicity, sells]  "
      ]
     },
     "execution_count": 38,
     "metadata": {},
     "output_type": "execute_result"
    }
   ],
   "source": [
    "df.head(3)"
   ]
  },
  {
   "cell_type": "code",
   "execution_count": 39,
   "id": "14f74bde-91d2-441e-8579-9b7044b3ced4",
   "metadata": {},
   "outputs": [],
   "source": [
    "df['vector']=df['tags']+df['description']+df['event']+df['main_speaker']+df['ratings']+df['title_temp']"
   ]
  },
  {
   "cell_type": "code",
   "execution_count": 40,
   "id": "47349854-720e-404e-862c-1c80f04eef28",
   "metadata": {},
   "outputs": [
    {
     "data": {
      "text/html": [
       "<div>\n",
       "<style scoped>\n",
       "    .dataframe tbody tr th:only-of-type {\n",
       "        vertical-align: middle;\n",
       "    }\n",
       "\n",
       "    .dataframe tbody tr th {\n",
       "        vertical-align: top;\n",
       "    }\n",
       "\n",
       "    .dataframe thead th {\n",
       "        text-align: right;\n",
       "    }\n",
       "</style>\n",
       "<table border=\"1\" class=\"dataframe\">\n",
       "  <thead>\n",
       "    <tr style=\"text-align: right;\">\n",
       "      <th></th>\n",
       "      <th>description</th>\n",
       "      <th>event</th>\n",
       "      <th>main_speaker</th>\n",
       "      <th>ratings</th>\n",
       "      <th>speaker_occupation</th>\n",
       "      <th>tags</th>\n",
       "      <th>title</th>\n",
       "      <th>title_temp</th>\n",
       "      <th>vector</th>\n",
       "    </tr>\n",
       "  </thead>\n",
       "  <tbody>\n",
       "    <tr>\n",
       "      <th>0</th>\n",
       "      <td>[Sir, Ken, Robinson, makes, an, entertaining, ...</td>\n",
       "      <td>[TED2006]</td>\n",
       "      <td>[Ken Robinson]</td>\n",
       "      <td>[Funny, Beautiful, Ingenious, Courageous, Long...</td>\n",
       "      <td>Author/educator</td>\n",
       "      <td>[children, creativity, culture, dance, educati...</td>\n",
       "      <td>Do schools kill creativity?</td>\n",
       "      <td>[Do, schools, kill, creativity?]</td>\n",
       "      <td>[children, creativity, culture, dance, educati...</td>\n",
       "    </tr>\n",
       "    <tr>\n",
       "      <th>1</th>\n",
       "      <td>[With, the, same, humor, and, humanity, he, ex...</td>\n",
       "      <td>[TED2006]</td>\n",
       "      <td>[Al Gore]</td>\n",
       "      <td>[Funny, Courageous, Confusing, Beautiful, Unco...</td>\n",
       "      <td>Climate advocate</td>\n",
       "      <td>[alternative energy, cars, climate change, cul...</td>\n",
       "      <td>Averting the climate crisis</td>\n",
       "      <td>[Averting, the, climate, crisis]</td>\n",
       "      <td>[alternative energy, cars, climate change, cul...</td>\n",
       "    </tr>\n",
       "  </tbody>\n",
       "</table>\n",
       "</div>"
      ],
      "text/plain": [
       "                                         description      event  \\\n",
       "0  [Sir, Ken, Robinson, makes, an, entertaining, ...  [TED2006]   \n",
       "1  [With, the, same, humor, and, humanity, he, ex...  [TED2006]   \n",
       "\n",
       "     main_speaker                                            ratings  \\\n",
       "0  [Ken Robinson]  [Funny, Beautiful, Ingenious, Courageous, Long...   \n",
       "1       [Al Gore]  [Funny, Courageous, Confusing, Beautiful, Unco...   \n",
       "\n",
       "  speaker_occupation                                               tags  \\\n",
       "0    Author/educator  [children, creativity, culture, dance, educati...   \n",
       "1   Climate advocate  [alternative energy, cars, climate change, cul...   \n",
       "\n",
       "                         title                        title_temp  \\\n",
       "0  Do schools kill creativity?  [Do, schools, kill, creativity?]   \n",
       "1  Averting the climate crisis  [Averting, the, climate, crisis]   \n",
       "\n",
       "                                              vector  \n",
       "0  [children, creativity, culture, dance, educati...  \n",
       "1  [alternative energy, cars, climate change, cul...  "
      ]
     },
     "execution_count": 40,
     "metadata": {},
     "output_type": "execute_result"
    }
   ],
   "source": [
    "df.head(2)"
   ]
  },
  {
   "cell_type": "code",
   "execution_count": 41,
   "id": "93e9814a-2b50-4dc4-b01a-a544f53a3a55",
   "metadata": {},
   "outputs": [],
   "source": [
    "df=df[['title','vector']]"
   ]
  },
  {
   "cell_type": "code",
   "execution_count": 42,
   "id": "2f7bffd8-a4bc-4161-a827-ea84454cfca1",
   "metadata": {},
   "outputs": [],
   "source": [
    "df['tags']=df['vector']"
   ]
  },
  {
   "cell_type": "code",
   "execution_count": 43,
   "id": "6f923b00-e3a0-4aa7-a457-9246c2dc0f23",
   "metadata": {},
   "outputs": [],
   "source": [
    "df=df[['title','tags']]"
   ]
  },
  {
   "cell_type": "code",
   "execution_count": 44,
   "id": "6ad1ec72-0374-44e8-9e9e-2280042d1de5",
   "metadata": {},
   "outputs": [
    {
     "data": {
      "text/html": [
       "<div>\n",
       "<style scoped>\n",
       "    .dataframe tbody tr th:only-of-type {\n",
       "        vertical-align: middle;\n",
       "    }\n",
       "\n",
       "    .dataframe tbody tr th {\n",
       "        vertical-align: top;\n",
       "    }\n",
       "\n",
       "    .dataframe thead th {\n",
       "        text-align: right;\n",
       "    }\n",
       "</style>\n",
       "<table border=\"1\" class=\"dataframe\">\n",
       "  <thead>\n",
       "    <tr style=\"text-align: right;\">\n",
       "      <th></th>\n",
       "      <th>title</th>\n",
       "      <th>tags</th>\n",
       "    </tr>\n",
       "  </thead>\n",
       "  <tbody>\n",
       "    <tr>\n",
       "      <th>0</th>\n",
       "      <td>Do schools kill creativity?</td>\n",
       "      <td>[children, creativity, culture, dance, educati...</td>\n",
       "    </tr>\n",
       "    <tr>\n",
       "      <th>1</th>\n",
       "      <td>Averting the climate crisis</td>\n",
       "      <td>[alternative energy, cars, climate change, cul...</td>\n",
       "    </tr>\n",
       "    <tr>\n",
       "      <th>2</th>\n",
       "      <td>Simplicity sells</td>\n",
       "      <td>[computers, entertainment, interface design, m...</td>\n",
       "    </tr>\n",
       "  </tbody>\n",
       "</table>\n",
       "</div>"
      ],
      "text/plain": [
       "                         title  \\\n",
       "0  Do schools kill creativity?   \n",
       "1  Averting the climate crisis   \n",
       "2             Simplicity sells   \n",
       "\n",
       "                                                tags  \n",
       "0  [children, creativity, culture, dance, educati...  \n",
       "1  [alternative energy, cars, climate change, cul...  \n",
       "2  [computers, entertainment, interface design, m...  "
      ]
     },
     "execution_count": 44,
     "metadata": {},
     "output_type": "execute_result"
    }
   ],
   "source": [
    "df.head(3)"
   ]
  },
  {
   "cell_type": "code",
   "execution_count": 45,
   "id": "aa582b88-8c59-438f-9c97-e132164a9c81",
   "metadata": {},
   "outputs": [],
   "source": [
    "l=[[1,2,3],[4,5,6]]\n",
    "def tags_chng(x):\n",
    "    return str(x)"
   ]
  },
  {
   "cell_type": "code",
   "execution_count": 46,
   "id": "7bd890b3-99e6-48c0-abe4-65df81e45a27",
   "metadata": {},
   "outputs": [
    {
     "data": {
      "text/plain": [
       "'[[1, 2, 3], [4, 5, 6]]'"
      ]
     },
     "execution_count": 46,
     "metadata": {},
     "output_type": "execute_result"
    }
   ],
   "source": [
    "tags_chng(l)"
   ]
  },
  {
   "cell_type": "code",
   "execution_count": 47,
   "id": "2f55f2a0-c40c-4291-aeb1-6356273b195d",
   "metadata": {},
   "outputs": [],
   "source": [
    "df['tags']=df['tags'].apply(tags_chng)"
   ]
  },
  {
   "cell_type": "code",
   "execution_count": 48,
   "id": "90c3a5e0-d50b-47a7-8b82-a89bd590ce55",
   "metadata": {},
   "outputs": [
    {
     "data": {
      "text/plain": [
       "\"['children', 'creativity', 'culture', 'dance', 'education', 'parenting', 'teaching', 'Sir', 'Ken', 'Robinson', 'makes', 'an', 'entertaining', 'and', 'profoundly', 'moving', 'case', 'for', 'creating', 'an', 'education', 'system', 'that', 'nurtures', '(rather', 'than', 'undermines)', 'creativity.', 'TED2006', 'Ken Robinson', 'Funny', 'Beautiful', 'Ingenious', 'Courageous', 'Longwinded', 'Confusing', 'Informative', 'Fascinating', 'Unconvincing', 'Persuasive', 'Jaw-dropping', 'OK', 'Obnoxious', 'Inspiring', 'Do', 'schools', 'kill', 'creativity?']\""
      ]
     },
     "execution_count": 48,
     "metadata": {},
     "output_type": "execute_result"
    }
   ],
   "source": [
    "df['tags'][0]"
   ]
  },
  {
   "cell_type": "code",
   "execution_count": 49,
   "id": "bbd963ee-4a5e-4bdd-b580-15e1dd4bca83",
   "metadata": {},
   "outputs": [],
   "source": [
    "df.to_csv('ted_pre_pro.csv', index=False)"
   ]
  },
  {
   "cell_type": "code",
   "execution_count": 50,
   "id": "efb6e1f2-f234-4043-bd06-568c8dbeeabb",
   "metadata": {},
   "outputs": [],
   "source": [
    "#now we create our vector space and plot every vector into that space"
   ]
  },
  {
   "cell_type": "code",
   "execution_count": 51,
   "id": "c7b2f82c-7ff8-4ea8-94c3-27ce5e318074",
   "metadata": {},
   "outputs": [],
   "source": [
    "from sklearn.feature_extraction.text import CountVectorizer"
   ]
  },
  {
   "cell_type": "code",
   "execution_count": 52,
   "id": "8036f2b1-d1ff-4057-a295-fe9d9e43e74b",
   "metadata": {},
   "outputs": [],
   "source": [
    "cv=CountVectorizer(max_features=3000,stop_words='english')"
   ]
  },
  {
   "cell_type": "code",
   "execution_count": 53,
   "id": "d97a5f0e-de79-4407-a63c-f849e0979c9a",
   "metadata": {},
   "outputs": [],
   "source": [
    "vectors=cv.fit_transform(df['tags']).toarray()"
   ]
  },
  {
   "cell_type": "code",
   "execution_count": 54,
   "id": "a01aa385-5f38-450f-ab05-e40649d88122",
   "metadata": {},
   "outputs": [
    {
     "data": {
      "text/plain": [
       "(2550, 3000)"
      ]
     },
     "execution_count": 54,
     "metadata": {},
     "output_type": "execute_result"
    }
   ],
   "source": [
    "vectors.shape"
   ]
  },
  {
   "cell_type": "code",
   "execution_count": 55,
   "id": "5b01906d-0208-4649-bc58-3d61ce63a8f9",
   "metadata": {},
   "outputs": [],
   "source": [
    "#now time for create a distance matrix"
   ]
  },
  {
   "cell_type": "code",
   "execution_count": 56,
   "id": "84d8c5d8-942c-4951-934f-df4908d2f36c",
   "metadata": {},
   "outputs": [],
   "source": [
    "from sklearn.metrics.pairwise import cosine_similarity"
   ]
  },
  {
   "cell_type": "code",
   "execution_count": 57,
   "id": "196f0008-fef2-4e91-aa4f-619eb8ef4138",
   "metadata": {},
   "outputs": [],
   "source": [
    "distance_matrics=cosine_similarity(vectors)"
   ]
  },
  {
   "cell_type": "code",
   "execution_count": 58,
   "id": "d2b79be5-de7c-41c4-994e-2035c67ceac1",
   "metadata": {},
   "outputs": [
    {
     "data": {
      "text/plain": [
       "(2550, 2550)"
      ]
     },
     "execution_count": 58,
     "metadata": {},
     "output_type": "execute_result"
    }
   ],
   "source": [
    "distance_matrics.shape"
   ]
  },
  {
   "cell_type": "code",
   "execution_count": 59,
   "id": "4722d9ff-1386-4d5c-b2f0-17fb552fe943",
   "metadata": {},
   "outputs": [
    {
     "data": {
      "text/plain": [
       "array([0.30782154, 0.325214  , 1.        , ..., 0.20589105, 0.26095179,\n",
       "       0.24527418])"
      ]
     },
     "execution_count": 59,
     "metadata": {},
     "output_type": "execute_result"
    }
   ],
   "source": [
    "distance_matrics[2]"
   ]
  },
  {
   "cell_type": "code",
   "execution_count": 60,
   "id": "622a3f8a-d1db-4816-bc53-2da6fb32ff62",
   "metadata": {},
   "outputs": [],
   "source": [
    "##now making an class so that preserve the object in pickle from"
   ]
  },
  {
   "cell_type": "code",
   "execution_count": 61,
   "id": "a9a2894c-4d64-4503-8ff0-860eed12dad0",
   "metadata": {},
   "outputs": [],
   "source": [
    "class Recommend:    \n",
    "    def srch(self,x):\n",
    "        i=df[df['title']==x].index[0]\n",
    "        l=distance_matrics[i]\n",
    "        sort_l=sorted(list(enumerate(l)),reverse=True,key=lambda x:x[1])\n",
    "        rec_l=sort_l[0:10]\n",
    "        for i in rec_l:\n",
    "            print(df['title'][i[0]])"
   ]
  },
  {
   "cell_type": "code",
   "execution_count": 62,
   "id": "6f60134e-c11a-47da-a9ad-f164d18ab6ed",
   "metadata": {},
   "outputs": [],
   "source": [
    "obj=Recommend()"
   ]
  },
  {
   "cell_type": "code",
   "execution_count": 63,
   "id": "3fa370a2-6751-4dda-b2ba-531fcb56d6fa",
   "metadata": {},
   "outputs": [
    {
     "name": "stdout",
     "output_type": "stream",
     "text": [
      "Simplicity sells\n",
      "The music wars\n",
      "Cool tricks your phone can do\n",
      "Toward a science of simplicity\n",
      "5 predictions, from 1984\n",
      "Rethink the desktop with BumpTop\n",
      "The radical promise of the multi-touch interface\n",
      "Human-centered design\n",
      "E-voting without fraud\n",
      "Designing for simplicity\n"
     ]
    }
   ],
   "source": [
    "obj.srch('Simplicity sells')"
   ]
  },
  {
   "cell_type": "code",
   "execution_count": 64,
   "id": "beda2f65-d711-4410-944a-e3319e938e15",
   "metadata": {},
   "outputs": [],
   "source": [
    "#now convert obj into pkl file"
   ]
  },
  {
   "cell_type": "code",
   "execution_count": 65,
   "id": "c4deb965-6495-4161-a3fc-3fd05badc17b",
   "metadata": {},
   "outputs": [],
   "source": [
    "import pickle\n",
    "\n",
    "with open('my_Ted_object_2.pkl', 'wb') as file:\n",
    "    pickle.dump(obj, file)"
   ]
  },
  {
   "cell_type": "code",
   "execution_count": 66,
   "id": "f2d4c51a-d227-4938-92bc-9e83a096b8c1",
   "metadata": {},
   "outputs": [
    {
     "name": "stdout",
     "output_type": "stream",
     "text": [
      "Human-centered design\n",
      "Organic design, inspired by nature\n",
      "Treat design as art\n",
      "Using design to make ideas new\n",
      "Intricate beauty by design\n",
      "Can design save newspapers?\n",
      "E-voting without fraud\n",
      "The design genius of Charles + Ray Eames\n",
      "Design is in the details\n",
      "An illustrated journey through Rome\n"
     ]
    }
   ],
   "source": [
    "with open('my_Ted_object_2.pkl', 'rb') as file:\n",
    "    loaded_object = pickle.load(file)\n",
    "\n",
    "loaded_object.srch('Human-centered design')\n",
    "# Output: MyClass(name=example, value=42)"
   ]
  },
  {
   "cell_type": "code",
   "execution_count": 67,
   "id": "6c261dc1-ce26-43b6-9439-6deb98f9317e",
   "metadata": {},
   "outputs": [
    {
     "name": "stdout",
     "output_type": "stream",
     "text": [
      "Intricate beauty by design\n",
      "Can design save newspapers?\n",
      "Design is in the details\n",
      "Organic design, inspired by nature\n",
      "Design and the Elastic Mind\n",
      "Treat design as art\n",
      "Design and destiny\n",
      "Designers -- think big!\n",
      "Great design is serious, not solemn\n",
      "Design, explained.\n"
     ]
    }
   ],
   "source": [
    "loaded_object.srch('Intricate beauty by design')"
   ]
  },
  {
   "cell_type": "code",
   "execution_count": null,
   "id": "83a871fb-94bd-40b4-88bc-77ca6b0f2faf",
   "metadata": {},
   "outputs": [],
   "source": []
  },
  {
   "cell_type": "code",
   "execution_count": null,
   "id": "d52dc000-c462-48c5-9aad-35e226ce476d",
   "metadata": {},
   "outputs": [],
   "source": []
  }
 ],
 "metadata": {
  "kernelspec": {
   "display_name": "Python 3 (ipykernel)",
   "language": "python",
   "name": "python3"
  },
  "language_info": {
   "codemirror_mode": {
    "name": "ipython",
    "version": 3
   },
   "file_extension": ".py",
   "mimetype": "text/x-python",
   "name": "python",
   "nbconvert_exporter": "python",
   "pygments_lexer": "ipython3",
   "version": "3.11.7"
  }
 },
 "nbformat": 4,
 "nbformat_minor": 5
}
